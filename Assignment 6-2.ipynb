{
 "cells": [
  {
   "cell_type": "markdown",
   "metadata": {},
   "source": [
    "# Your Turn page 63\n",
    "Create a new column where you convert gender to numeric values, like\n",
    "1 for female and 0 for male. Can you now add gender to your regression?\n",
    "Does this improve your R-squared?"
   ]
  },
  {
   "cell_type": "code",
   "execution_count": 1,
   "metadata": {},
   "outputs": [
    {
     "data": {
      "text/html": [
       "<table class=\"simpletable\">\n",
       "<caption>OLS Regression Results</caption>\n",
       "<tr>\n",
       "  <th>Dep. Variable:</th>          <td>grade</td>      <th>  R-squared:         </th> <td>   0.665</td> \n",
       "</tr>\n",
       "<tr>\n",
       "  <th>Model:</th>                   <td>OLS</td>       <th>  Adj. R-squared:    </th> <td>   0.664</td> \n",
       "</tr>\n",
       "<tr>\n",
       "  <th>Method:</th>             <td>Least Squares</td>  <th>  F-statistic:       </th> <td>   1318.</td> \n",
       "</tr>\n",
       "<tr>\n",
       "  <th>Date:</th>             <td>Sun, 18 Oct 2020</td> <th>  Prob (F-statistic):</th>  <td>  0.00</td>  \n",
       "</tr>\n",
       "<tr>\n",
       "  <th>Time:</th>                 <td>23:37:08</td>     <th>  Log-Likelihood:    </th> <td> -6299.3</td> \n",
       "</tr>\n",
       "<tr>\n",
       "  <th>No. Observations:</th>      <td>  2000</td>      <th>  AIC:               </th> <td>1.261e+04</td>\n",
       "</tr>\n",
       "<tr>\n",
       "  <th>Df Residuals:</th>          <td>  1996</td>      <th>  BIC:               </th> <td>1.263e+04</td>\n",
       "</tr>\n",
       "<tr>\n",
       "  <th>Df Model:</th>              <td>     3</td>      <th>                     </th>     <td> </td>    \n",
       "</tr>\n",
       "<tr>\n",
       "  <th>Covariance Type:</th>      <td>nonrobust</td>    <th>                     </th>     <td> </td>    \n",
       "</tr>\n",
       "</table>\n",
       "<table class=\"simpletable\">\n",
       "<tr>\n",
       "         <td></td>           <th>coef</th>     <th>std err</th>      <th>t</th>      <th>P>|t|</th>  <th>[0.025</th>    <th>0.975]</th>  \n",
       "</tr>\n",
       "<tr>\n",
       "  <th>Intercept</th>      <td>   58.7621</td> <td>    0.466</td> <td>  126.172</td> <td> 0.000</td> <td>   57.849</td> <td>   59.676</td>\n",
       "</tr>\n",
       "<tr>\n",
       "  <th>gender[T.male]</th> <td>   -0.4476</td> <td>    0.253</td> <td>   -1.770</td> <td> 0.077</td> <td>   -0.943</td> <td>    0.048</td>\n",
       "</tr>\n",
       "<tr>\n",
       "  <th>exercise</th>       <td>    0.9840</td> <td>    0.089</td> <td>   11.073</td> <td> 0.000</td> <td>    0.810</td> <td>    1.158</td>\n",
       "</tr>\n",
       "<tr>\n",
       "  <th>hours</th>          <td>    1.9170</td> <td>    0.031</td> <td>   61.628</td> <td> 0.000</td> <td>    1.856</td> <td>    1.978</td>\n",
       "</tr>\n",
       "</table>\n",
       "<table class=\"simpletable\">\n",
       "<tr>\n",
       "  <th>Omnibus:</th>       <td>322.999</td> <th>  Durbin-Watson:     </th> <td>   2.048</td>\n",
       "</tr>\n",
       "<tr>\n",
       "  <th>Prob(Omnibus):</th> <td> 0.000</td>  <th>  Jarque-Bera (JB):  </th> <td>2244.206</td>\n",
       "</tr>\n",
       "<tr>\n",
       "  <th>Skew:</th>          <td>-0.566</td>  <th>  Prob(JB):          </th> <td>    0.00</td>\n",
       "</tr>\n",
       "<tr>\n",
       "  <th>Kurtosis:</th>      <td> 8.064</td>  <th>  Cond. No.          </th> <td>    45.6</td>\n",
       "</tr>\n",
       "</table><br/><br/>Warnings:<br/>[1] Standard Errors assume that the covariance matrix of the errors is correctly specified."
      ],
      "text/plain": [
       "<class 'statsmodels.iolib.summary.Summary'>\n",
       "\"\"\"\n",
       "                            OLS Regression Results                            \n",
       "==============================================================================\n",
       "Dep. Variable:                  grade   R-squared:                       0.665\n",
       "Model:                            OLS   Adj. R-squared:                  0.664\n",
       "Method:                 Least Squares   F-statistic:                     1318.\n",
       "Date:                Sun, 18 Oct 2020   Prob (F-statistic):               0.00\n",
       "Time:                        23:37:08   Log-Likelihood:                -6299.3\n",
       "No. Observations:                2000   AIC:                         1.261e+04\n",
       "Df Residuals:                    1996   BIC:                         1.263e+04\n",
       "Df Model:                           3                                         \n",
       "Covariance Type:            nonrobust                                         \n",
       "==================================================================================\n",
       "                     coef    std err          t      P>|t|      [0.025      0.975]\n",
       "----------------------------------------------------------------------------------\n",
       "Intercept         58.7621      0.466    126.172      0.000      57.849      59.676\n",
       "gender[T.male]    -0.4476      0.253     -1.770      0.077      -0.943       0.048\n",
       "exercise           0.9840      0.089     11.073      0.000       0.810       1.158\n",
       "hours              1.9170      0.031     61.628      0.000       1.856       1.978\n",
       "==============================================================================\n",
       "Omnibus:                      322.999   Durbin-Watson:                   2.048\n",
       "Prob(Omnibus):                  0.000   Jarque-Bera (JB):             2244.206\n",
       "Skew:                          -0.566   Prob(JB):                         0.00\n",
       "Kurtosis:                       8.064   Cond. No.                         45.6\n",
       "==============================================================================\n",
       "\n",
       "Warnings:\n",
       "[1] Standard Errors assume that the covariance matrix of the errors is correctly specified.\n",
       "\"\"\""
      ]
     },
     "execution_count": 1,
     "metadata": {},
     "output_type": "execute_result"
    }
   ],
   "source": [
    "import pandas as pd\n",
    "import numpy as np\n",
    "import statsmodels.formula.api as sm\n",
    "\n",
    "Location = \"datasets/gradedata.csv\"\n",
    "df = pd.read_csv(Location)\n",
    "\n",
    "\n",
    "df['genderBool'] = np.where((df['gender'] == \"female\"),'1', '0')\n",
    "df.head()\n",
    "\n",
    "result = sm.ols(\n",
    "    formula='grade ~ gender + exercise + hours'\n",
    "    ,data=df).fit()\n",
    "result.summary()"
   ]
  },
  {
   "cell_type": "code",
   "execution_count": null,
   "metadata": {},
   "outputs": [],
   "source": []
  }
 ],
 "metadata": {
  "kernelspec": {
   "display_name": "Python 3",
   "language": "python",
   "name": "python3"
  },
  "language_info": {
   "codemirror_mode": {
    "name": "ipython",
    "version": 3
   },
   "file_extension": ".py",
   "mimetype": "text/x-python",
   "name": "python",
   "nbconvert_exporter": "python",
   "pygments_lexer": "ipython3",
   "version": "3.7.3"
  }
 },
 "nbformat": 4,
 "nbformat_minor": 2
}
