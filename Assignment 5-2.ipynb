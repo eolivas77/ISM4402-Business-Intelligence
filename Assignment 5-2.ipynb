{
 "cells": [
  {
   "cell_type": "markdown",
   "metadata": {},
   "source": [
    "# Your Turn Page 57 "
   ]
  },
  {
   "cell_type": "code",
   "execution_count": 12,
   "metadata": {},
   "outputs": [
    {
     "name": "stdout",
     "output_type": "stream",
     "text": [
      "Number of Values:  5\n",
      "Arithmetic average:  85.0\n",
      "Standard Deviation:  11.067971810589327\n",
      "Minimum:  76\n",
      "Maximum:  99\n",
      "First Quartile:  77.0\n",
      "Second Quartile:  78.0\n",
      "Third Quartile:  95.0\n",
      "Variance:  122.5\n"
     ]
    }
   ],
   "source": [
    "import pandas as pd\n",
    "\n",
    "\n",
    "names = ['Bob','Jessica','Mary','John','Mel']\n",
    "grades = [76,95,77,78,99]\n",
    "bsdegrees = [1,1,0,0,1]\n",
    "msdegrees = [2,1,0,0,0]\n",
    "phddegrees = [0,1,0,0,0]\n",
    "\n",
    "GradeList = list(zip(names,grades,bsdegrees,msdegrees,phddegrees))\n",
    "df = pd.DataFrame(data=GradeList,columns=['Names','Grades','bs degrees', 'ms degrees', 'phd degrees'])\n",
    "df\n",
    "\n",
    "print(\"Number of Values: \" ,df['Grades'].count())# number of values\n",
    "print(\"Arithmetic average: \", df['Grades'].mean())# arithmetic average\n",
    "print(\"Standard Deviation: \", df['Grades'].std())# standard deviation\n",
    "print(\"Minimum: \", df['Grades'].min())# minimum\n",
    "print(\"Maximum: \", df['Grades'].max())# maximum\n",
    "print(\"First Quartile: \", df['Grades'].quantile(.25))# first quartile\n",
    "print(\"Second Quartile: \", df['Grades'].quantile(.5)) # second quartile\n",
    "print(\"Third Quartile: \", df['Grades'].quantile(.75))# third quartile\n",
    "print(\"Variance: \", df['Grades'].var())"
   ]
  },
  {
   "cell_type": "code",
   "execution_count": null,
   "metadata": {},
   "outputs": [],
   "source": []
  }
 ],
 "metadata": {
  "kernelspec": {
   "display_name": "Python 3",
   "language": "python",
   "name": "python3"
  },
  "language_info": {
   "codemirror_mode": {
    "name": "ipython",
    "version": 3
   },
   "file_extension": ".py",
   "mimetype": "text/x-python",
   "name": "python",
   "nbconvert_exporter": "python",
   "pygments_lexer": "ipython3",
   "version": "3.7.3"
  }
 },
 "nbformat": 4,
 "nbformat_minor": 2
}
